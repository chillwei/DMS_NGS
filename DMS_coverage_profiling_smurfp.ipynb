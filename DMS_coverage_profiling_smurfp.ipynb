{
 "cells": [
  {
   "cell_type": "code",
   "execution_count": 1,
   "id": "be657df3",
   "metadata": {},
   "outputs": [
    {
     "name": "stderr",
     "output_type": "stream",
     "text": [
      "/Users/weiqiyao/opt/anaconda3/lib/python3.8/site-packages/Bio/pairwise2.py:278: BiopythonDeprecationWarning: Bio.pairwise2 has been deprecated, and we intend to remove it in a future release of Biopython. As an alternative, please consider using Bio.Align.PairwiseAligner as a replacement, and contact the Biopython developers if you still need the Bio.pairwise2 module.\n",
      "  warnings.warn(\n"
     ]
    }
   ],
   "source": [
    "# generate the DMS protein sequence for each library\n",
    "import DMS_proseq_generator\n",
    "from typing import List\n",
    "import numpy as np\n",
    "import pandas as pd\n",
    "from pandas.core.frame import DataFrame\n",
    "import seaborn as sns\n",
    "import matplotlib.pyplot as plt\n",
    "import re\n",
    "from collections import Counter\n",
    "from Bio import SeqIO\n",
    "from Bio.Seq import Seq\n",
    "import os\n",
    "import gzip"
   ]
  },
  {
   "cell_type": "code",
   "execution_count": 2,
   "id": "e75f24df",
   "metadata": {},
   "outputs": [],
   "source": [
    "wt = 'MKTSEQRVNIATLLTENKKKIVDKASQDLWRRHPDLIAPGGIAFSQRDRALCLRDYGWFLHLITFCLLAGDKGPIESIGLISIREMYNSLGVPVPAMMESIRCLKEASLSLLDEEDANETAPYFDYIIKAMSEF'"
   ]
  },
  {
   "cell_type": "code",
   "execution_count": 3,
   "id": "7223a725",
   "metadata": {},
   "outputs": [
    {
     "name": "stdout",
     "output_type": "stream",
     "text": [
      "pre deduplicate library number is :  133\n",
      "The diversity of single aa deletion library is:  123\n"
     ]
    }
   ],
   "source": [
    "# generate deletion library\n",
    "del_smurfp_list = DMS_proseq_generator.single_aa_deletion(wt,2,len(wt))"
   ]
  },
  {
   "cell_type": "code",
   "execution_count": 4,
   "id": "332f47af",
   "metadata": {},
   "outputs": [
    {
     "name": "stdout",
     "output_type": "stream",
     "text": [
      "pre deduplicate library number is :  2680\n",
      "The diversity of single aa insetrion library is:  2547\n"
     ]
    }
   ],
   "source": [
    "# generate insertion library\n",
    "amino_acids = 'ARNDCQEGHILKMFPSTWYV'\n",
    "ins_smurfp_list = DMS_proseq_generator.single_aa_insertion(wt,amino_acids,2,len(wt)+1)"
   ]
  },
  {
   "cell_type": "code",
   "execution_count": 5,
   "id": "36bb3a0e",
   "metadata": {},
   "outputs": [
    {
     "name": "stdout",
     "output_type": "stream",
     "text": [
      "pre deduplicate library number is :  2527\n",
      "The diversity of single aa replacement library is:  2527\n"
     ]
    }
   ],
   "source": [
    "rep_smurfp_list = DMS_proseq_generator.single_aa_replacement(wt,amino_acids,2,len(wt))"
   ]
  },
  {
   "cell_type": "code",
   "execution_count": 6,
   "id": "5e79ef90",
   "metadata": {},
   "outputs": [],
   "source": [
    "# Combine all the list\n",
    "DMS_proseq_list = del_smurfp_list + rep_smurfp_list + ins_smurfp_list"
   ]
  },
  {
   "cell_type": "code",
   "execution_count": 7,
   "id": "1a53ac4a",
   "metadata": {},
   "outputs": [],
   "source": [
    "# realize for the smurfp, we did the processing of dropping the mutations that introduce Cys\n",
    "DMS_order_df = pd.read_csv('20220608Synoligofinal.csv', index_col=False)\n",
    "DMS_order_df = DMS_order_df.drop(DMS_order_df.columns[0], axis=1)"
   ]
  },
  {
   "cell_type": "code",
   "execution_count": 8,
   "id": "b6bcbe61",
   "metadata": {},
   "outputs": [
    {
     "data": {
      "text/html": [
       "<div>\n",
       "<style scoped>\n",
       "    .dataframe tbody tr th:only-of-type {\n",
       "        vertical-align: middle;\n",
       "    }\n",
       "\n",
       "    .dataframe tbody tr th {\n",
       "        vertical-align: top;\n",
       "    }\n",
       "\n",
       "    .dataframe thead th {\n",
       "        text-align: right;\n",
       "    }\n",
       "</style>\n",
       "<table border=\"1\" class=\"dataframe\">\n",
       "  <thead>\n",
       "    <tr style=\"text-align: right;\">\n",
       "      <th></th>\n",
       "      <th>ID</th>\n",
       "      <th>length</th>\n",
       "      <th>seq</th>\n",
       "    </tr>\n",
       "  </thead>\n",
       "  <tbody>\n",
       "    <tr>\n",
       "      <th>0</th>\n",
       "      <td>Alkx_Mut2-27_Asp2Cys</td>\n",
       "      <td>147</td>\n",
       "      <td>ATATAGATGCCGTCCTAGCGCCCGGTCTCCTATGTGCCGTATGCCC...</td>\n",
       "    </tr>\n",
       "    <tr>\n",
       "      <th>1</th>\n",
       "      <td>Alkx_Mut2-27_Asp2Ser</td>\n",
       "      <td>147</td>\n",
       "      <td>ATATAGATGCCGTCCTAGCGCCCGGTCTCCTATGTCCCGTATGCCC...</td>\n",
       "    </tr>\n",
       "    <tr>\n",
       "      <th>2</th>\n",
       "      <td>Alkx_Mut2-27_Asp2Gln</td>\n",
       "      <td>147</td>\n",
       "      <td>ATATAGATGCCGTCCTAGCGCCCGGTCTCCTATGCAGCGTATGCCC...</td>\n",
       "    </tr>\n",
       "    <tr>\n",
       "      <th>3</th>\n",
       "      <td>Alkx_Mut2-27_Asp2Met</td>\n",
       "      <td>147</td>\n",
       "      <td>ATATAGATGCCGTCCTAGCGCCCGGTCTCCTATGATGCGTATGCCC...</td>\n",
       "    </tr>\n",
       "    <tr>\n",
       "      <th>4</th>\n",
       "      <td>Alkx_Mut2-27_Asp2Asn</td>\n",
       "      <td>147</td>\n",
       "      <td>ATATAGATGCCGTCCTAGCGCCCGGTCTCCTATGAATCGTATGCCC...</td>\n",
       "    </tr>\n",
       "  </tbody>\n",
       "</table>\n",
       "</div>"
      ],
      "text/plain": [
       "                     ID  length  \\\n",
       "0  Alkx_Mut2-27_Asp2Cys     147   \n",
       "1  Alkx_Mut2-27_Asp2Ser     147   \n",
       "2  Alkx_Mut2-27_Asp2Gln     147   \n",
       "3  Alkx_Mut2-27_Asp2Met     147   \n",
       "4  Alkx_Mut2-27_Asp2Asn     147   \n",
       "\n",
       "                                                 seq  \n",
       "0  ATATAGATGCCGTCCTAGCGCCCGGTCTCCTATGTGCCGTATGCCC...  \n",
       "1  ATATAGATGCCGTCCTAGCGCCCGGTCTCCTATGTCCCGTATGCCC...  \n",
       "2  ATATAGATGCCGTCCTAGCGCCCGGTCTCCTATGCAGCGTATGCCC...  \n",
       "3  ATATAGATGCCGTCCTAGCGCCCGGTCTCCTATGATGCGTATGCCC...  \n",
       "4  ATATAGATGCCGTCCTAGCGCCCGGTCTCCTATGAATCGTATGCCC...  "
      ]
     },
     "execution_count": 8,
     "metadata": {},
     "output_type": "execute_result"
    }
   ],
   "source": [
    "DMS_order_df.head()"
   ]
  },
  {
   "cell_type": "code",
   "execution_count": 9,
   "id": "d5beb3c8",
   "metadata": {},
   "outputs": [],
   "source": [
    "def _convert_DMSoligo2aa(df):\n",
    "    Geneaa_list = []\n",
    "    Geneaa_df = df.copy()\n",
    "    for idx, row in df.iterrows():\n",
    "        DNAseq = row['seq']\n",
    "        DNAseqBsaI = DNAseq.replace('GGTCTC','@').replace('GAGACC','@')\n",
    "        if DNAseqBsaI.count('@') != 2:\n",
    "            print('Multiple BsaI found. Check the sequence manually ')\n",
    "            print('ID:' + row['ID'])\n",
    "            print('Sequence' + DNAseq)\n",
    "        Genechunk = DNAseqBsaI.split('@')[1][2:-2]\n",
    "        Gene_aa = Seq(Genechunk).translate()\n",
    "        Geneaa_list.append(str(Gene_aa))\n",
    "    \n",
    "\n",
    "    Geneaa_df['oligo_aa'] = Geneaa_list\n",
    "    return Geneaa_df"
   ]
  },
  {
   "cell_type": "code",
   "execution_count": 10,
   "id": "428b11b7",
   "metadata": {},
   "outputs": [
    {
     "name": "stdout",
     "output_type": "stream",
     "text": [
      "Multiple BsaI found. Check the sequence manually \n",
      "ID:T7lig_Mut280-306_Phe306Trp\n",
      "SequenceGTGCTAAGTCACACTGTTGGTCGGTCTCCTAATGCCACCAACATTTCTCGCGCGCTTATGGACGAGTTTACCGAAACGGTTAAAGAGGCCACGTTGTCACAGTGGGGATTCTGGTCTCGGAGACCCACGCCAGTTGTGAACATAACC\n"
     ]
    },
    {
     "name": "stderr",
     "output_type": "stream",
     "text": [
      "/Users/weiqiyao/opt/anaconda3/lib/python3.8/site-packages/Bio/Seq.py:2880: BiopythonWarning: Partial codon, len(sequence) not a multiple of three. Explicitly trim the sequence or add trailing N before translation. This may become an error in future.\n",
      "  warnings.warn(\n"
     ]
    },
    {
     "data": {
      "text/html": [
       "<div>\n",
       "<style scoped>\n",
       "    .dataframe tbody tr th:only-of-type {\n",
       "        vertical-align: middle;\n",
       "    }\n",
       "\n",
       "    .dataframe tbody tr th {\n",
       "        vertical-align: top;\n",
       "    }\n",
       "\n",
       "    .dataframe thead th {\n",
       "        text-align: right;\n",
       "    }\n",
       "</style>\n",
       "<table border=\"1\" class=\"dataframe\">\n",
       "  <thead>\n",
       "    <tr style=\"text-align: right;\">\n",
       "      <th></th>\n",
       "      <th>ID</th>\n",
       "      <th>length</th>\n",
       "      <th>seq</th>\n",
       "      <th>oligo_aa</th>\n",
       "    </tr>\n",
       "  </thead>\n",
       "  <tbody>\n",
       "    <tr>\n",
       "      <th>16208</th>\n",
       "      <td>Smurfp_Mut2-27_Lys2Asp</td>\n",
       "      <td>147</td>\n",
       "      <td>AGTAGCCCACGATATCGTTTCTCGGTCTCCTATGGACACTTCTGAA...</td>\n",
       "      <td>MDTSEQRVNIATLLTENKKKIVDKASQD</td>\n",
       "    </tr>\n",
       "    <tr>\n",
       "      <th>16209</th>\n",
       "      <td>Smurfp_Mut2-27_Lys2Ser</td>\n",
       "      <td>147</td>\n",
       "      <td>AGTAGCCCACGATATCGTTTCTCGGTCTCCTATGTCAACTTCTGAA...</td>\n",
       "      <td>MSTSEQRVNIATLLTENKKKIVDKASQD</td>\n",
       "    </tr>\n",
       "    <tr>\n",
       "      <th>16210</th>\n",
       "      <td>Smurfp_Mut2-27_Lys2Gln</td>\n",
       "      <td>147</td>\n",
       "      <td>AGTAGCCCACGATATCGTTTCTCGGTCTCCTATGCAGACTTCTGAA...</td>\n",
       "      <td>MQTSEQRVNIATLLTENKKKIVDKASQD</td>\n",
       "    </tr>\n",
       "    <tr>\n",
       "      <th>16211</th>\n",
       "      <td>Smurfp_Mut2-27_Lys2Met</td>\n",
       "      <td>147</td>\n",
       "      <td>AGTAGCCCACGATATCGTTTCTCGGTCTCCTATGATGACTTCTGAA...</td>\n",
       "      <td>MMTSEQRVNIATLLTENKKKIVDKASQD</td>\n",
       "    </tr>\n",
       "    <tr>\n",
       "      <th>16212</th>\n",
       "      <td>Smurfp_Mut2-27_Lys2Asn</td>\n",
       "      <td>147</td>\n",
       "      <td>AGTAGCCCACGATATCGTTTCTCGGTCTCCTATGAATACTTCTGAA...</td>\n",
       "      <td>MNTSEQRVNIATLLTENKKKIVDKASQD</td>\n",
       "    </tr>\n",
       "  </tbody>\n",
       "</table>\n",
       "</div>"
      ],
      "text/plain": [
       "                           ID  length  \\\n",
       "16208  Smurfp_Mut2-27_Lys2Asp     147   \n",
       "16209  Smurfp_Mut2-27_Lys2Ser     147   \n",
       "16210  Smurfp_Mut2-27_Lys2Gln     147   \n",
       "16211  Smurfp_Mut2-27_Lys2Met     147   \n",
       "16212  Smurfp_Mut2-27_Lys2Asn     147   \n",
       "\n",
       "                                                     seq  \\\n",
       "16208  AGTAGCCCACGATATCGTTTCTCGGTCTCCTATGGACACTTCTGAA...   \n",
       "16209  AGTAGCCCACGATATCGTTTCTCGGTCTCCTATGTCAACTTCTGAA...   \n",
       "16210  AGTAGCCCACGATATCGTTTCTCGGTCTCCTATGCAGACTTCTGAA...   \n",
       "16211  AGTAGCCCACGATATCGTTTCTCGGTCTCCTATGATGACTTCTGAA...   \n",
       "16212  AGTAGCCCACGATATCGTTTCTCGGTCTCCTATGAATACTTCTGAA...   \n",
       "\n",
       "                           oligo_aa  \n",
       "16208  MDTSEQRVNIATLLTENKKKIVDKASQD  \n",
       "16209  MSTSEQRVNIATLLTENKKKIVDKASQD  \n",
       "16210  MQTSEQRVNIATLLTENKKKIVDKASQD  \n",
       "16211  MMTSEQRVNIATLLTENKKKIVDKASQD  \n",
       "16212  MNTSEQRVNIATLLTENKKKIVDKASQD  "
      ]
     },
     "execution_count": 10,
     "metadata": {},
     "output_type": "execute_result"
    }
   ],
   "source": [
    "DMS_order_df2 = _convert_DMSoligo2aa(DMS_order_df)\n",
    "DMS_smurfp_order = DMS_order_df2[DMS_order_df2['ID'].str.contains('Smurfp')]\n",
    "DMS_smurfp_order.head()"
   ]
  },
  {
   "cell_type": "code",
   "execution_count": 11,
   "id": "c8e3903f",
   "metadata": {},
   "outputs": [
    {
     "data": {
      "text/plain": [
       "4920"
      ]
     },
     "execution_count": 11,
     "metadata": {},
     "output_type": "execute_result"
    }
   ],
   "source": [
    "len(DMS_smurfp_order)"
   ]
  },
  {
   "cell_type": "code",
   "execution_count": 12,
   "id": "f6bae0ae",
   "metadata": {},
   "outputs": [],
   "source": [
    "# map the coverage of DMS NGS lib\n",
    "# The reference is the protein sequence I generated\n",
    "smurfp_NGS_df = pd.read_csv('final_filtered_smurfp.csv', index_col=False)\n",
    "smurfp_NGS_df = smurfp_NGS_df.drop(smurfp_NGS_df.columns[0], axis=1)\n"
   ]
  },
  {
   "cell_type": "code",
   "execution_count": 13,
   "id": "54fdcaac",
   "metadata": {},
   "outputs": [
    {
     "data": {
      "text/html": [
       "<div>\n",
       "<style scoped>\n",
       "    .dataframe tbody tr th:only-of-type {\n",
       "        vertical-align: middle;\n",
       "    }\n",
       "\n",
       "    .dataframe tbody tr th {\n",
       "        vertical-align: top;\n",
       "    }\n",
       "\n",
       "    .dataframe thead th {\n",
       "        text-align: right;\n",
       "    }\n",
       "</style>\n",
       "<table border=\"1\" class=\"dataframe\">\n",
       "  <thead>\n",
       "    <tr style=\"text-align: right;\">\n",
       "      <th></th>\n",
       "      <th>Proseq</th>\n",
       "      <th>count</th>\n",
       "      <th>Seqlen</th>\n",
       "    </tr>\n",
       "  </thead>\n",
       "  <tbody>\n",
       "    <tr>\n",
       "      <th>0</th>\n",
       "      <td>MKTSEQRVNIATLLTENKKKIVDKASQDLWRRHPDLIAPGGIAFSQ...</td>\n",
       "      <td>16</td>\n",
       "      <td>134</td>\n",
       "    </tr>\n",
       "    <tr>\n",
       "      <th>1</th>\n",
       "      <td>MKTSEQRVNIATLLTENKKKIVDKASQDLWRRHPDLSAPGGIAFSQ...</td>\n",
       "      <td>1</td>\n",
       "      <td>134</td>\n",
       "    </tr>\n",
       "    <tr>\n",
       "      <th>2</th>\n",
       "      <td>MKTSEQRVNIATLLTENKKKIVDKASQDLWRRHPDLIAPGGIAFSQ...</td>\n",
       "      <td>1</td>\n",
       "      <td>135</td>\n",
       "    </tr>\n",
       "    <tr>\n",
       "      <th>3</th>\n",
       "      <td>MKTSEQRVNIATLLTENKKKIVDKASQDLWRHHPDLIAPGGIAFSQ...</td>\n",
       "      <td>13</td>\n",
       "      <td>134</td>\n",
       "    </tr>\n",
       "    <tr>\n",
       "      <th>4</th>\n",
       "      <td>MKTSEQRVNIATLLTENKKKIVDKASQDLWRRHPDLIAPGGIAFSQ...</td>\n",
       "      <td>21</td>\n",
       "      <td>135</td>\n",
       "    </tr>\n",
       "  </tbody>\n",
       "</table>\n",
       "</div>"
      ],
      "text/plain": [
       "                                              Proseq  count  Seqlen\n",
       "0  MKTSEQRVNIATLLTENKKKIVDKASQDLWRRHPDLIAPGGIAFSQ...     16     134\n",
       "1  MKTSEQRVNIATLLTENKKKIVDKASQDLWRRHPDLSAPGGIAFSQ...      1     134\n",
       "2  MKTSEQRVNIATLLTENKKKIVDKASQDLWRRHPDLIAPGGIAFSQ...      1     135\n",
       "3  MKTSEQRVNIATLLTENKKKIVDKASQDLWRHHPDLIAPGGIAFSQ...     13     134\n",
       "4  MKTSEQRVNIATLLTENKKKIVDKASQDLWRRHPDLIAPGGIAFSQ...     21     135"
      ]
     },
     "execution_count": 13,
     "metadata": {},
     "output_type": "execute_result"
    }
   ],
   "source": [
    "smurfp_NGS_df.head()"
   ]
  },
  {
   "cell_type": "code",
   "execution_count": 18,
   "id": "52d7f6d5",
   "metadata": {},
   "outputs": [
    {
     "name": "stdout",
     "output_type": "stream",
     "text": [
      "How many seqs that is not captured in DMS NGS lib : 48\n",
      "coverage of the DMS is 0.9902439024390244\n"
     ]
    }
   ],
   "source": [
    "# map the NGS seq with the DMS oligo seq which is translated as protein seq\n",
    "NGS_proseq_list_HH = [string + 'HH' for string in smurfp_NGS_df['Proseq']]\n",
    "# total coverage\n",
    "Seq_not_capture = DMS_proseq_generator.DMSlib_seq_profiling(NGS_proseq_list_HH,DMS_smurfp_order['oligo_aa'])\n"
   ]
  },
  {
   "cell_type": "code",
   "execution_count": 15,
   "id": "b742e291",
   "metadata": {},
   "outputs": [
    {
     "name": "stdout",
     "output_type": "stream",
     "text": [
      "How many seqs that is not captured in DMS NGS lib : 21\n",
      "coverage of the DMS is 0.9911690496215307\n"
     ]
    }
   ],
   "source": [
    "# coveraege for single aa replacement\n",
    "rep_DMS = DMS_smurfp_order[DMS_smurfp_order['length'] == 147]\n",
    "Seq_not_capture_rep = DMS_proseq_generator.DMSlib_seq_profiling(NGS_proseq_list_HH,rep_DMS['oligo_aa'])"
   ]
  },
  {
   "cell_type": "code",
   "execution_count": 16,
   "id": "b038d479",
   "metadata": {},
   "outputs": [
    {
     "name": "stdout",
     "output_type": "stream",
     "text": [
      "How many seqs that is not captured in DMS NGS lib : 27\n",
      "coverage of the DMS is 0.9888429752066116\n"
     ]
    }
   ],
   "source": [
    "# coveraege for single aa insertion\n",
    "ins_DMS = DMS_smurfp_order[DMS_smurfp_order['length'] == 150]\n",
    "Seq_not_capture_ins = DMS_proseq_generator.DMSlib_seq_profiling(NGS_proseq_list_HH,ins_DMS['oligo_aa'])"
   ]
  },
  {
   "cell_type": "code",
   "execution_count": 17,
   "id": "1d084513",
   "metadata": {},
   "outputs": [
    {
     "name": "stdout",
     "output_type": "stream",
     "text": [
      "How many seqs that is not captured in DMS NGS lib : 0\n",
      "coverage of the DMS is 1.0\n"
     ]
    }
   ],
   "source": [
    "# coveraege for single aa deletion\n",
    "del_DMS = DMS_smurfp_order[DMS_smurfp_order['length'] == 144]\n",
    "Seq_not_capture_del = DMS_proseq_generator.DMSlib_seq_profiling(NGS_proseq_list_HH,del_DMS['oligo_aa'])"
   ]
  },
  {
   "cell_type": "code",
   "execution_count": 21,
   "id": "a4ba31dd",
   "metadata": {},
   "outputs": [
    {
     "data": {
      "text/html": [
       "<div>\n",
       "<style scoped>\n",
       "    .dataframe tbody tr th:only-of-type {\n",
       "        vertical-align: middle;\n",
       "    }\n",
       "\n",
       "    .dataframe tbody tr th {\n",
       "        vertical-align: top;\n",
       "    }\n",
       "\n",
       "    .dataframe thead th {\n",
       "        text-align: right;\n",
       "    }\n",
       "</style>\n",
       "<table border=\"1\" class=\"dataframe\">\n",
       "  <thead>\n",
       "    <tr style=\"text-align: right;\">\n",
       "      <th></th>\n",
       "      <th>ID</th>\n",
       "      <th>length</th>\n",
       "      <th>seq</th>\n",
       "      <th>oligo_aa</th>\n",
       "    </tr>\n",
       "  </thead>\n",
       "  <tbody>\n",
       "    <tr>\n",
       "      <th>16208</th>\n",
       "      <td>Smurfp_Mut2-27_Lys2Asp</td>\n",
       "      <td>147</td>\n",
       "      <td>AGTAGCCCACGATATCGTTTCTCGGTCTCCTATGGACACTTCTGAA...</td>\n",
       "      <td>MDTSEQRVNIATLLTENKKKIVDKASQD</td>\n",
       "    </tr>\n",
       "    <tr>\n",
       "      <th>16209</th>\n",
       "      <td>Smurfp_Mut2-27_Lys2Ser</td>\n",
       "      <td>147</td>\n",
       "      <td>AGTAGCCCACGATATCGTTTCTCGGTCTCCTATGTCAACTTCTGAA...</td>\n",
       "      <td>MSTSEQRVNIATLLTENKKKIVDKASQD</td>\n",
       "    </tr>\n",
       "    <tr>\n",
       "      <th>16211</th>\n",
       "      <td>Smurfp_Mut2-27_Lys2Met</td>\n",
       "      <td>147</td>\n",
       "      <td>AGTAGCCCACGATATCGTTTCTCGGTCTCCTATGATGACTTCTGAA...</td>\n",
       "      <td>MMTSEQRVNIATLLTENKKKIVDKASQD</td>\n",
       "    </tr>\n",
       "    <tr>\n",
       "      <th>16213</th>\n",
       "      <td>Smurfp_Mut2-27_Lys2Pro</td>\n",
       "      <td>147</td>\n",
       "      <td>AGTAGCCCACGATATCGTTTCTCGGTCTCCTATGCCCACTTCTGAA...</td>\n",
       "      <td>MPTSEQRVNIATLLTENKKKIVDKASQD</td>\n",
       "    </tr>\n",
       "    <tr>\n",
       "      <th>16215</th>\n",
       "      <td>Smurfp_Mut2-27_Lys2Phe</td>\n",
       "      <td>147</td>\n",
       "      <td>AGTAGCCCACGATATCGTTTCTCGGTCTCCTATGTTTACTTCTGAA...</td>\n",
       "      <td>MFTSEQRVNIATLLTENKKKIVDKASQD</td>\n",
       "    </tr>\n",
       "  </tbody>\n",
       "</table>\n",
       "</div>"
      ],
      "text/plain": [
       "                           ID  length  \\\n",
       "16208  Smurfp_Mut2-27_Lys2Asp     147   \n",
       "16209  Smurfp_Mut2-27_Lys2Ser     147   \n",
       "16211  Smurfp_Mut2-27_Lys2Met     147   \n",
       "16213  Smurfp_Mut2-27_Lys2Pro     147   \n",
       "16215  Smurfp_Mut2-27_Lys2Phe     147   \n",
       "\n",
       "                                                     seq  \\\n",
       "16208  AGTAGCCCACGATATCGTTTCTCGGTCTCCTATGGACACTTCTGAA...   \n",
       "16209  AGTAGCCCACGATATCGTTTCTCGGTCTCCTATGTCAACTTCTGAA...   \n",
       "16211  AGTAGCCCACGATATCGTTTCTCGGTCTCCTATGATGACTTCTGAA...   \n",
       "16213  AGTAGCCCACGATATCGTTTCTCGGTCTCCTATGCCCACTTCTGAA...   \n",
       "16215  AGTAGCCCACGATATCGTTTCTCGGTCTCCTATGTTTACTTCTGAA...   \n",
       "\n",
       "                           oligo_aa  \n",
       "16208  MDTSEQRVNIATLLTENKKKIVDKASQD  \n",
       "16209  MSTSEQRVNIATLLTENKKKIVDKASQD  \n",
       "16211  MMTSEQRVNIATLLTENKKKIVDKASQD  \n",
       "16213  MPTSEQRVNIATLLTENKKKIVDKASQD  \n",
       "16215  MFTSEQRVNIATLLTENKKKIVDKASQD  "
      ]
     },
     "execution_count": 21,
     "metadata": {},
     "output_type": "execute_result"
    }
   ],
   "source": [
    "not_capture_df = DMS_smurfp_order[DMS_smurfp_order['oligo_aa'].isin(Seq_not_capture)]\n",
    "not_capture_df.head()"
   ]
  },
  {
   "cell_type": "code",
   "execution_count": 22,
   "id": "ec49f9f0",
   "metadata": {},
   "outputs": [
    {
     "data": {
      "text/html": [
       "<div>\n",
       "<style scoped>\n",
       "    .dataframe tbody tr th:only-of-type {\n",
       "        vertical-align: middle;\n",
       "    }\n",
       "\n",
       "    .dataframe tbody tr th {\n",
       "        vertical-align: top;\n",
       "    }\n",
       "\n",
       "    .dataframe thead th {\n",
       "        text-align: right;\n",
       "    }\n",
       "</style>\n",
       "<table border=\"1\" class=\"dataframe\">\n",
       "  <thead>\n",
       "    <tr style=\"text-align: right;\">\n",
       "      <th></th>\n",
       "      <th>ID</th>\n",
       "      <th>length</th>\n",
       "      <th>seq</th>\n",
       "      <th>oligo_aa</th>\n",
       "      <th>mut_type</th>\n",
       "      <th>mut_aa</th>\n",
       "      <th>mut_loc</th>\n",
       "    </tr>\n",
       "  </thead>\n",
       "  <tbody>\n",
       "    <tr>\n",
       "      <th>16208</th>\n",
       "      <td>Smurfp_Mut2-27_Lys2Asp</td>\n",
       "      <td>147</td>\n",
       "      <td>AGTAGCCCACGATATCGTTTCTCGGTCTCCTATGGACACTTCTGAA...</td>\n",
       "      <td>MDTSEQRVNIATLLTENKKKIVDKASQD</td>\n",
       "      <td>Mut</td>\n",
       "      <td>Asp</td>\n",
       "      <td>2</td>\n",
       "    </tr>\n",
       "    <tr>\n",
       "      <th>16209</th>\n",
       "      <td>Smurfp_Mut2-27_Lys2Ser</td>\n",
       "      <td>147</td>\n",
       "      <td>AGTAGCCCACGATATCGTTTCTCGGTCTCCTATGTCAACTTCTGAA...</td>\n",
       "      <td>MSTSEQRVNIATLLTENKKKIVDKASQD</td>\n",
       "      <td>Mut</td>\n",
       "      <td>Ser</td>\n",
       "      <td>2</td>\n",
       "    </tr>\n",
       "    <tr>\n",
       "      <th>16211</th>\n",
       "      <td>Smurfp_Mut2-27_Lys2Met</td>\n",
       "      <td>147</td>\n",
       "      <td>AGTAGCCCACGATATCGTTTCTCGGTCTCCTATGATGACTTCTGAA...</td>\n",
       "      <td>MMTSEQRVNIATLLTENKKKIVDKASQD</td>\n",
       "      <td>Mut</td>\n",
       "      <td>Met</td>\n",
       "      <td>2</td>\n",
       "    </tr>\n",
       "    <tr>\n",
       "      <th>16213</th>\n",
       "      <td>Smurfp_Mut2-27_Lys2Pro</td>\n",
       "      <td>147</td>\n",
       "      <td>AGTAGCCCACGATATCGTTTCTCGGTCTCCTATGCCCACTTCTGAA...</td>\n",
       "      <td>MPTSEQRVNIATLLTENKKKIVDKASQD</td>\n",
       "      <td>Mut</td>\n",
       "      <td>Pro</td>\n",
       "      <td>2</td>\n",
       "    </tr>\n",
       "    <tr>\n",
       "      <th>16215</th>\n",
       "      <td>Smurfp_Mut2-27_Lys2Phe</td>\n",
       "      <td>147</td>\n",
       "      <td>AGTAGCCCACGATATCGTTTCTCGGTCTCCTATGTTTACTTCTGAA...</td>\n",
       "      <td>MFTSEQRVNIATLLTENKKKIVDKASQD</td>\n",
       "      <td>Mut</td>\n",
       "      <td>Phe</td>\n",
       "      <td>2</td>\n",
       "    </tr>\n",
       "  </tbody>\n",
       "</table>\n",
       "</div>"
      ],
      "text/plain": [
       "                           ID  length  \\\n",
       "16208  Smurfp_Mut2-27_Lys2Asp     147   \n",
       "16209  Smurfp_Mut2-27_Lys2Ser     147   \n",
       "16211  Smurfp_Mut2-27_Lys2Met     147   \n",
       "16213  Smurfp_Mut2-27_Lys2Pro     147   \n",
       "16215  Smurfp_Mut2-27_Lys2Phe     147   \n",
       "\n",
       "                                                     seq  \\\n",
       "16208  AGTAGCCCACGATATCGTTTCTCGGTCTCCTATGGACACTTCTGAA...   \n",
       "16209  AGTAGCCCACGATATCGTTTCTCGGTCTCCTATGTCAACTTCTGAA...   \n",
       "16211  AGTAGCCCACGATATCGTTTCTCGGTCTCCTATGATGACTTCTGAA...   \n",
       "16213  AGTAGCCCACGATATCGTTTCTCGGTCTCCTATGCCCACTTCTGAA...   \n",
       "16215  AGTAGCCCACGATATCGTTTCTCGGTCTCCTATGTTTACTTCTGAA...   \n",
       "\n",
       "                           oligo_aa mut_type mut_aa mut_loc  \n",
       "16208  MDTSEQRVNIATLLTENKKKIVDKASQD      Mut    Asp       2  \n",
       "16209  MSTSEQRVNIATLLTENKKKIVDKASQD      Mut    Ser       2  \n",
       "16211  MMTSEQRVNIATLLTENKKKIVDKASQD      Mut    Met       2  \n",
       "16213  MPTSEQRVNIATLLTENKKKIVDKASQD      Mut    Pro       2  \n",
       "16215  MFTSEQRVNIATLLTENKKKIVDKASQD      Mut    Phe       2  "
      ]
     },
     "execution_count": 22,
     "metadata": {},
     "output_type": "execute_result"
    }
   ],
   "source": [
    "# extract the missing mutation location and mutation\n",
    "not_cap_df_info = DMS_proseq_generator.extract_mut_info(not_capture_df)\n",
    "not_cap_df_info.head()\n",
    "         "
   ]
  },
  {
   "cell_type": "code",
   "execution_count": 23,
   "id": "f5db5562",
   "metadata": {},
   "outputs": [],
   "source": [
    "aalist = ['Ala', 'Arg', 'Asn', 'Asp', 'Cys', 'Gln', 'Glu', 'Gly', 'His', 'Ile',\n",
    "                        'Leu', 'Lys', 'Met', 'Phe', 'Pro', 'Ser', 'Thr', 'Trp', 'Tyr', 'Val']"
   ]
  },
  {
   "cell_type": "code",
   "execution_count": 24,
   "id": "98489419",
   "metadata": {},
   "outputs": [],
   "source": [
    "\n",
    "# dms_aa: Define all possible amino acids (adjust as needed)\n",
    "# pass all possible amino acid designed in dms library and the dataframe generated above which represents counts of each unique variant seqinto the following function. Note: df has to be grouped by len for analysis.\n",
    "\n",
    "def _missing_aa_heatmap(df, aa_list,mut_type, proseqlen):\n",
    "\n",
    "    # Initialize a dictionary to hold the frequency data\n",
    "    df2 = df[df['mut_type'] == mut_type]\n",
    "    aa_matrix = {aa: [0]*proseqlen for aa in aa_list}\n",
    "    # Calculate the frequency of each amino acid at each position\n",
    "    for index, row in df2.iterrows():\n",
    "        miss_aa = row['mut_aa']\n",
    "        miss_loc = row['mut_loc']\n",
    "\n",
    "        aa_matrix[miss_aa][int(miss_loc)] = 1\n",
    "\n",
    "\n",
    "    # Convert the frequency matrix to a DataFrame for easier plotting\n",
    "    aa_matrix_df = pd.DataFrame(aa_matrix)\n",
    "\n",
    "    transposed_aa_matrix_df = aa_matrix_df.transpose()\n",
    "    return transposed_aa_matrix_df"
   ]
  },
  {
   "cell_type": "code",
   "execution_count": 25,
   "id": "47f7b95a",
   "metadata": {},
   "outputs": [
    {
     "data": {
      "text/html": [
       "<div>\n",
       "<style scoped>\n",
       "    .dataframe tbody tr th:only-of-type {\n",
       "        vertical-align: middle;\n",
       "    }\n",
       "\n",
       "    .dataframe tbody tr th {\n",
       "        vertical-align: top;\n",
       "    }\n",
       "\n",
       "    .dataframe thead th {\n",
       "        text-align: right;\n",
       "    }\n",
       "</style>\n",
       "<table border=\"1\" class=\"dataframe\">\n",
       "  <thead>\n",
       "    <tr style=\"text-align: right;\">\n",
       "      <th></th>\n",
       "      <th>0</th>\n",
       "      <th>1</th>\n",
       "      <th>2</th>\n",
       "      <th>3</th>\n",
       "      <th>4</th>\n",
       "      <th>5</th>\n",
       "      <th>6</th>\n",
       "      <th>7</th>\n",
       "      <th>8</th>\n",
       "      <th>9</th>\n",
       "      <th>...</th>\n",
       "      <th>124</th>\n",
       "      <th>125</th>\n",
       "      <th>126</th>\n",
       "      <th>127</th>\n",
       "      <th>128</th>\n",
       "      <th>129</th>\n",
       "      <th>130</th>\n",
       "      <th>131</th>\n",
       "      <th>132</th>\n",
       "      <th>133</th>\n",
       "    </tr>\n",
       "  </thead>\n",
       "  <tbody>\n",
       "    <tr>\n",
       "      <th>Ala</th>\n",
       "      <td>0</td>\n",
       "      <td>0</td>\n",
       "      <td>1</td>\n",
       "      <td>0</td>\n",
       "      <td>0</td>\n",
       "      <td>0</td>\n",
       "      <td>0</td>\n",
       "      <td>0</td>\n",
       "      <td>0</td>\n",
       "      <td>0</td>\n",
       "      <td>...</td>\n",
       "      <td>0</td>\n",
       "      <td>0</td>\n",
       "      <td>0</td>\n",
       "      <td>0</td>\n",
       "      <td>0</td>\n",
       "      <td>0</td>\n",
       "      <td>0</td>\n",
       "      <td>0</td>\n",
       "      <td>0</td>\n",
       "      <td>0</td>\n",
       "    </tr>\n",
       "    <tr>\n",
       "      <th>Arg</th>\n",
       "      <td>0</td>\n",
       "      <td>0</td>\n",
       "      <td>0</td>\n",
       "      <td>1</td>\n",
       "      <td>0</td>\n",
       "      <td>0</td>\n",
       "      <td>0</td>\n",
       "      <td>0</td>\n",
       "      <td>0</td>\n",
       "      <td>0</td>\n",
       "      <td>...</td>\n",
       "      <td>0</td>\n",
       "      <td>0</td>\n",
       "      <td>0</td>\n",
       "      <td>0</td>\n",
       "      <td>0</td>\n",
       "      <td>0</td>\n",
       "      <td>0</td>\n",
       "      <td>0</td>\n",
       "      <td>0</td>\n",
       "      <td>0</td>\n",
       "    </tr>\n",
       "    <tr>\n",
       "      <th>Asn</th>\n",
       "      <td>0</td>\n",
       "      <td>0</td>\n",
       "      <td>0</td>\n",
       "      <td>0</td>\n",
       "      <td>0</td>\n",
       "      <td>0</td>\n",
       "      <td>0</td>\n",
       "      <td>0</td>\n",
       "      <td>0</td>\n",
       "      <td>0</td>\n",
       "      <td>...</td>\n",
       "      <td>0</td>\n",
       "      <td>0</td>\n",
       "      <td>0</td>\n",
       "      <td>0</td>\n",
       "      <td>0</td>\n",
       "      <td>0</td>\n",
       "      <td>0</td>\n",
       "      <td>0</td>\n",
       "      <td>0</td>\n",
       "      <td>0</td>\n",
       "    </tr>\n",
       "    <tr>\n",
       "      <th>Asp</th>\n",
       "      <td>0</td>\n",
       "      <td>0</td>\n",
       "      <td>1</td>\n",
       "      <td>1</td>\n",
       "      <td>0</td>\n",
       "      <td>0</td>\n",
       "      <td>0</td>\n",
       "      <td>0</td>\n",
       "      <td>0</td>\n",
       "      <td>0</td>\n",
       "      <td>...</td>\n",
       "      <td>0</td>\n",
       "      <td>0</td>\n",
       "      <td>0</td>\n",
       "      <td>0</td>\n",
       "      <td>0</td>\n",
       "      <td>0</td>\n",
       "      <td>0</td>\n",
       "      <td>0</td>\n",
       "      <td>0</td>\n",
       "      <td>0</td>\n",
       "    </tr>\n",
       "    <tr>\n",
       "      <th>Cys</th>\n",
       "      <td>0</td>\n",
       "      <td>0</td>\n",
       "      <td>0</td>\n",
       "      <td>0</td>\n",
       "      <td>0</td>\n",
       "      <td>0</td>\n",
       "      <td>0</td>\n",
       "      <td>0</td>\n",
       "      <td>0</td>\n",
       "      <td>0</td>\n",
       "      <td>...</td>\n",
       "      <td>0</td>\n",
       "      <td>0</td>\n",
       "      <td>0</td>\n",
       "      <td>0</td>\n",
       "      <td>0</td>\n",
       "      <td>0</td>\n",
       "      <td>0</td>\n",
       "      <td>0</td>\n",
       "      <td>0</td>\n",
       "      <td>0</td>\n",
       "    </tr>\n",
       "  </tbody>\n",
       "</table>\n",
       "<p>5 rows × 134 columns</p>\n",
       "</div>"
      ],
      "text/plain": [
       "     0    1    2    3    4    5    6    7    8    9    ...  124  125  126  \\\n",
       "Ala    0    0    1    0    0    0    0    0    0    0  ...    0    0    0   \n",
       "Arg    0    0    0    1    0    0    0    0    0    0  ...    0    0    0   \n",
       "Asn    0    0    0    0    0    0    0    0    0    0  ...    0    0    0   \n",
       "Asp    0    0    1    1    0    0    0    0    0    0  ...    0    0    0   \n",
       "Cys    0    0    0    0    0    0    0    0    0    0  ...    0    0    0   \n",
       "\n",
       "     127  128  129  130  131  132  133  \n",
       "Ala    0    0    0    0    0    0    0  \n",
       "Arg    0    0    0    0    0    0    0  \n",
       "Asn    0    0    0    0    0    0    0  \n",
       "Asp    0    0    0    0    0    0    0  \n",
       "Cys    0    0    0    0    0    0    0  \n",
       "\n",
       "[5 rows x 134 columns]"
      ]
     },
     "execution_count": 25,
     "metadata": {},
     "output_type": "execute_result"
    }
   ],
   "source": [
    "_missing_aa_heatmap(not_cap_df_info, aalist, 'Mut',134).head()"
   ]
  },
  {
   "cell_type": "code",
   "execution_count": 34,
   "id": "c81ae101",
   "metadata": {},
   "outputs": [
    {
     "data": {
      "image/png": "[encoded data removed]",
      "text/plain": [
       "<Figure size 3000x400 with 1 Axes>"
      ]
     },
     "metadata": {},
     "output_type": "display_data"
    }
   ],
   "source": [
    "# Plotting the heatmap to represent missing variants in rep library\n",
    "plt.figure(figsize=(30, 4))\n",
    "sns.heatmap(_missing_aa_heatmap(not_cap_df_info, aalist, 'Mut',134), cmap='binary',cbar=False, annot=False,linewidths=0.1, linecolor='lightgray')\n",
    "plt.title('Uncaptured mutations in single aa replacement library')\n",
    "plt.xlabel('Position')\n",
    "plt.ylabel('Amino Acid')\n",
    "plt.xticks(range(0, 134, 1),labels=range(0, 134, 1))\n",
    "plt.savefig('uncaptured_aa_in_smurfp_replib.jpg',transparent = None)\n",
    "plt.show()\n"
   ]
  },
  {
   "cell_type": "code",
   "execution_count": 35,
   "id": "eeafa535",
   "metadata": {
    "scrolled": true
   },
   "outputs": [
    {
     "data": {
      "image/png": "[encoded data removed]",
      "text/plain": [
       "<Figure size 3300x400 with 1 Axes>"
      ]
     },
     "metadata": {},
     "output_type": "display_data"
    }
   ],
   "source": [
    "# Plotting the heatmap to represent missing variants in ins library\n",
    "plt.figure(figsize=(33, 4))\n",
    "sns.heatmap(_missing_aa_heatmap(not_cap_df_info, aalist, 'Ins',134), cmap='binary',cbar=False, annot=False,linewidths=0.1, linecolor='lightgray')\n",
    "plt.title('Uncaptured mutations in single aa insertion library')\n",
    "plt.xlabel('Position')\n",
    "plt.ylabel('Amino Acid')\n",
    "plt.xticks(range(0, 134, 1),labels=range(0, 134, 1))\n",
    "plt.savefig('uncaptured_aa_in_smurfp_inslib.jpg',transparent = None)\n",
    "plt.show()\n",
    "\n"
   ]
  },
  {
   "cell_type": "code",
   "execution_count": null,
   "id": "62d2ad92",
   "metadata": {},
   "outputs": [],
   "source": []
  }
 ],
 "metadata": {
  "kernelspec": {
   "display_name": "Python 3 (ipykernel)",
   "language": "python",
   "name": "python3"
  },
  "language_info": {
   "codemirror_mode": {
    "name": "ipython",
    "version": 3
   },
   "file_extension": ".py",
   "mimetype": "text/x-python",
   "name": "python",
   "nbconvert_exporter": "python",
   "pygments_lexer": "ipython3",
   "version": "3.8.16"
  }
 },
 "nbformat": 4,
 "nbformat_minor": 5
}
